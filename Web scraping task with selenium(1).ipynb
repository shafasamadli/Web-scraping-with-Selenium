{
 "cells": [
  {
   "cell_type": "code",
   "execution_count": 405,
   "id": "01764587",
   "metadata": {},
   "outputs": [],
   "source": [
    "from selenium import webdriver\n",
    "from selenium.webdriver.common.keys import Keys\n",
    "import pandas as pd"
   ]
  },
  {
   "cell_type": "code",
   "execution_count": 406,
   "id": "8306f7f6",
   "metadata": {},
   "outputs": [],
   "source": [
    "from time import sleep\n",
    "from selenium.webdriver.common.by import By "
   ]
  },
  {
   "cell_type": "code",
   "execution_count": 407,
   "id": "34acd3d5",
   "metadata": {},
   "outputs": [],
   "source": [
    "options = webdriver.ChromeOptions()\n",
    "options.binary_location = r\"C:\\Program Files\\Google\\Chrome\\Application\\chrome.exe\""
   ]
  },
  {
   "cell_type": "code",
   "execution_count": 408,
   "id": "cd45a11e",
   "metadata": {},
   "outputs": [
    {
     "name": "stderr",
     "output_type": "stream",
     "text": [
      "C:\\Users\\ACER\\AppData\\Local\\Temp/ipykernel_1092/3886312708.py:2: DeprecationWarning: executable_path has been deprecated, please pass in a Service object\n",
      "  driver = webdriver.Chrome(chrome_driver_binary, chrome_options=options)\n",
      "C:\\Users\\ACER\\AppData\\Local\\Temp/ipykernel_1092/3886312708.py:2: DeprecationWarning: use options instead of chrome_options\n",
      "  driver = webdriver.Chrome(chrome_driver_binary, chrome_options=options)\n"
     ]
    }
   ],
   "source": [
    "chrome_driver_binary = r\"C:\\Users\\ACER\\.wdm\\chromedriver\\110.0.5481.77\\win32\\chromedriver.exe\"\n",
    "driver = webdriver.Chrome(chrome_driver_binary, chrome_options=options)"
   ]
  },
  {
   "cell_type": "code",
   "execution_count": 409,
   "id": "ee39e303",
   "metadata": {},
   "outputs": [],
   "source": [
    "driver.get('https://www.hellojob.az/')"
   ]
  },
  {
   "cell_type": "code",
   "execution_count": 380,
   "id": "b4bc4bd5",
   "metadata": {},
   "outputs": [],
   "source": [
    "driver.maximize_window()"
   ]
  },
  {
   "cell_type": "code",
   "execution_count": 410,
   "id": "708bab15",
   "metadata": {},
   "outputs": [],
   "source": [
    "job = \"Data\""
   ]
  },
  {
   "cell_type": "code",
   "execution_count": 411,
   "id": "85ce1e6f",
   "metadata": {},
   "outputs": [],
   "source": [
    "search_box = driver.find_element(By.XPATH, \"/html/body/main/div[1]/div[2]/div/div[2]/div/div[1]/form/div/input[1]\")"
   ]
  },
  {
   "cell_type": "code",
   "execution_count": 412,
   "id": "54eb6594",
   "metadata": {},
   "outputs": [],
   "source": [
    "search_box.clear()  # => if we want to search new vacancies in different category firstly we have to remove the previous one\n",
    "search_box.send_keys(job)\n",
    "search_box.send_keys(Keys.ENTER)\n",
    "sleep(3)"
   ]
  },
  {
   "cell_type": "code",
   "execution_count": null,
   "id": "c0929a02",
   "metadata": {},
   "outputs": [],
   "source": [
    "# driver.back() =>  to return the previous results \n",
    "# driver.forward()"
   ]
  },
  {
   "cell_type": "code",
   "execution_count": null,
   "id": "0fda31bf",
   "metadata": {},
   "outputs": [],
   "source": [
    "# hover on the needed element, click ctrl+F, then right own path \n",
    "# driver.find_element(By.XPATH,\"//div[@class='vacancies__desc']\")"
   ]
  },
  {
   "cell_type": "code",
   "execution_count": 396,
   "id": "3ba54636",
   "metadata": {},
   "outputs": [
    {
     "name": "stdout",
     "output_type": "stream",
     "text": [
      "Back-End Proqramlaşdırma üzrə Funksional Sahə Lideri\n",
      "PASHA Bank\n"
     ]
    }
   ],
   "source": [
    "item = driver.find_element(By.XPATH,\"//div[@class='vacancies__desc']\")\n",
    "print(item.text)"
   ]
  },
  {
   "cell_type": "code",
   "execution_count": 413,
   "id": "5cd50d8d",
   "metadata": {},
   "outputs": [
    {
     "name": "stdout",
     "output_type": "stream",
     "text": [
      "<class 'list'>\n"
     ]
    }
   ],
   "source": [
    "items = driver.find_elements(By.XPATH,\"//div[@class='vacancies__desc']\")\n",
    "print(type(items))"
   ]
  },
  {
   "cell_type": "code",
   "execution_count": 414,
   "id": "f5023075",
   "metadata": {},
   "outputs": [
    {
     "name": "stdout",
     "output_type": "stream",
     "text": [
      "[<selenium.webdriver.remote.webelement.WebElement (session=\"507d3f5287089cd0e48d77cd9719a31c\", element=\"4adc8f2f-eccf-4e17-919d-05a8e670fc75\")>, <selenium.webdriver.remote.webelement.WebElement (session=\"507d3f5287089cd0e48d77cd9719a31c\", element=\"59ba62d0-5d6d-48b8-8416-34e468e32c6d\")>, <selenium.webdriver.remote.webelement.WebElement (session=\"507d3f5287089cd0e48d77cd9719a31c\", element=\"90f1c57d-0492-4ae3-90c1-8ff9fff1c4de\")>, <selenium.webdriver.remote.webelement.WebElement (session=\"507d3f5287089cd0e48d77cd9719a31c\", element=\"ca5b7093-9414-4217-b219-164bd0b0082a\")>, <selenium.webdriver.remote.webelement.WebElement (session=\"507d3f5287089cd0e48d77cd9719a31c\", element=\"7aea3750-0c44-4846-bfe6-a26619c361e3\")>, <selenium.webdriver.remote.webelement.WebElement (session=\"507d3f5287089cd0e48d77cd9719a31c\", element=\"0ce51adf-5121-4046-ae28-5b4c47f64255\")>, <selenium.webdriver.remote.webelement.WebElement (session=\"507d3f5287089cd0e48d77cd9719a31c\", element=\"af6a435a-f8b3-4889-aa17-c1e4a8232c70\")>, <selenium.webdriver.remote.webelement.WebElement (session=\"507d3f5287089cd0e48d77cd9719a31c\", element=\"362c00e1-eb3f-4170-a9dd-4415d9e97e86\")>, <selenium.webdriver.remote.webelement.WebElement (session=\"507d3f5287089cd0e48d77cd9719a31c\", element=\"e8c68398-011b-41e1-b86f-af3af576379f\")>, <selenium.webdriver.remote.webelement.WebElement (session=\"507d3f5287089cd0e48d77cd9719a31c\", element=\"ef76a56f-3aa4-4bce-9709-95ace48e7164\")>, <selenium.webdriver.remote.webelement.WebElement (session=\"507d3f5287089cd0e48d77cd9719a31c\", element=\"68e97b9a-24c0-454e-a860-e0997173b673\")>, <selenium.webdriver.remote.webelement.WebElement (session=\"507d3f5287089cd0e48d77cd9719a31c\", element=\"7ba947da-6edd-49a3-b2b2-4589cc01f67e\")>, <selenium.webdriver.remote.webelement.WebElement (session=\"507d3f5287089cd0e48d77cd9719a31c\", element=\"325d436c-a7a3-4313-9481-b1d919aa65d6\")>, <selenium.webdriver.remote.webelement.WebElement (session=\"507d3f5287089cd0e48d77cd9719a31c\", element=\"0b1ee6cf-7177-4f3c-9475-f1ee1cba2daf\")>, <selenium.webdriver.remote.webelement.WebElement (session=\"507d3f5287089cd0e48d77cd9719a31c\", element=\"9d43d9bc-28df-4e3d-86d4-5c4c5769ccf2\")>, <selenium.webdriver.remote.webelement.WebElement (session=\"507d3f5287089cd0e48d77cd9719a31c\", element=\"39a48c01-0372-483d-b00d-435c9c5b1b54\")>, <selenium.webdriver.remote.webelement.WebElement (session=\"507d3f5287089cd0e48d77cd9719a31c\", element=\"e26b9be8-5e77-4085-86fd-5dcb461bb2b3\")>, <selenium.webdriver.remote.webelement.WebElement (session=\"507d3f5287089cd0e48d77cd9719a31c\", element=\"09fb13b9-a46e-4413-b6d5-330739727bd0\")>, <selenium.webdriver.remote.webelement.WebElement (session=\"507d3f5287089cd0e48d77cd9719a31c\", element=\"3bbfaa10-fe86-4376-bcb9-0fd8ef62c921\")>, <selenium.webdriver.remote.webelement.WebElement (session=\"507d3f5287089cd0e48d77cd9719a31c\", element=\"ac5c2397-d981-4ac7-9bf8-4957351bfaf6\")>, <selenium.webdriver.remote.webelement.WebElement (session=\"507d3f5287089cd0e48d77cd9719a31c\", element=\"8d84ef62-3d12-4614-9c61-c0efc52e6f67\")>]\n"
     ]
    }
   ],
   "source": [
    "print(items)"
   ]
  },
  {
   "cell_type": "code",
   "execution_count": 415,
   "id": "c7d46140",
   "metadata": {},
   "outputs": [
    {
     "name": "stdout",
     "output_type": "stream",
     "text": [
      "['Data scientist\\nABB ASC', 'Data sahəsinin data vizuallaşdırılması üzrə analitikı\\nABB ASC', 'Təşkilati inkişaf üzrə Baş Mütəxəssis\\nPASHA Bank', 'Analitik\\nPASHA Holding', 'Layihə koordinatoru\\nPASHA Holding', 'Hub Assistant\\nPASHA Holding', 'Chief Data Officer\\nPASHA Holding', 'Head of Data Technology\\nPASHA Holding', 'Satış üzrə mütəxəssis\\nQSS Analytics', 'Strategy and Budgeting Specialist\\nPASHA Insurance', 'Data Science Internship\\nQSS Analytics', 'Data sahəsinin data üzrə aparıcı mühəndisi\\nABB ASC', 'Data sahəsinin aparıcı data analitiki\\nABB ASC', 'Risk texnologiyaları sahəsi (Data analitik)\\nKapital Bank', 'Risk Modelləşdirmə üzrə Kiçik Mütəxəssis / Mütəxəssis\\nPASHA Bank', 'Data analitik\\nKapital Bank', 'Marketinq Kommunikasiyaları Şöbəsinin Rəhbəri\\nPASHA Bank', 'Rəqəmsal marketinq üzrə aparıcı mütəxəssis\\nExpress Bank', 'Sales Operations Administrator\\nPASHA Development', 'Data Keyfiyyəti üzrə Mütəxəssis\\nPASHA Bank', 'Data və hesabatlıq şöbəsinin Şöbə müdiri\\nKapital Bank']\n"
     ]
    }
   ],
   "source": [
    "vacancies = []\n",
    "for i in items:\n",
    "    vacancies.append(i.text)\n",
    "print(vacancies)"
   ]
  },
  {
   "cell_type": "code",
   "execution_count": 416,
   "id": "81ed4785",
   "metadata": {},
   "outputs": [
    {
     "name": "stdout",
     "output_type": "stream",
     "text": [
      "[['Data scientist', 'ABB ASC'], ['Data sahəsinin data vizuallaşdırılması üzrə analitikı', 'ABB ASC'], ['Təşkilati inkişaf üzrə Baş Mütəxəssis', 'PASHA Bank'], ['Analitik', 'PASHA Holding'], ['Layihə koordinatoru', 'PASHA Holding'], ['Hub Assistant', 'PASHA Holding'], ['Chief Data Officer', 'PASHA Holding'], ['Head of Data Technology', 'PASHA Holding'], ['Satış üzrə mütəxəssis', 'QSS Analytics'], ['Strategy and Budgeting Specialist', 'PASHA Insurance'], ['Data Science Internship', 'QSS Analytics'], ['Data sahəsinin data üzrə aparıcı mühəndisi', 'ABB ASC'], ['Data sahəsinin aparıcı data analitiki', 'ABB ASC'], ['Risk texnologiyaları sahəsi (Data analitik)', 'Kapital Bank'], ['Risk Modelləşdirmə üzrə Kiçik Mütəxəssis / Mütəxəssis', 'PASHA Bank'], ['Data analitik', 'Kapital Bank'], ['Marketinq Kommunikasiyaları Şöbəsinin Rəhbəri', 'PASHA Bank'], ['Rəqəmsal marketinq üzrə aparıcı mütəxəssis', 'Express Bank'], ['Sales Operations Administrator', 'PASHA Development'], ['Data Keyfiyyəti üzrə Mütəxəssis', 'PASHA Bank'], ['Data və hesabatlıq şöbəsinin Şöbə müdiri', 'Kapital Bank']]\n"
     ]
    }
   ],
   "source": [
    "vacancy = []\n",
    "for i in vacancies:\n",
    "    vacancy.append(i.split(\"\\n\"))\n",
    "print(vacancy)"
   ]
  },
  {
   "cell_type": "code",
   "execution_count": 401,
   "id": "c744a39e",
   "metadata": {},
   "outputs": [
    {
     "data": {
      "text/plain": [
       "['Back-End Proqramlaşdırma üzrə Funksional Sahə Lideri', 'PASHA Bank']"
      ]
     },
     "execution_count": 401,
     "metadata": {},
     "output_type": "execute_result"
    }
   ],
   "source": [
    "vacancy[0]"
   ]
  },
  {
   "cell_type": "code",
   "execution_count": 417,
   "id": "762dcc87",
   "metadata": {},
   "outputs": [
    {
     "name": "stdout",
     "output_type": "stream",
     "text": [
      "['Data scientist', 'Data sahəsinin data vizuallaşdırılması üzrə analitikı', 'Təşkilati inkişaf üzrə Baş Mütəxəssis', 'Analitik', 'Layihə koordinatoru', 'Hub Assistant', 'Chief Data Officer', 'Head of Data Technology', 'Satış üzrə mütəxəssis', 'Strategy and Budgeting Specialist', 'Data Science Internship', 'Data sahəsinin data üzrə aparıcı mühəndisi', 'Data sahəsinin aparıcı data analitiki', 'Risk texnologiyaları sahəsi (Data analitik)', 'Risk Modelləşdirmə üzrə Kiçik Mütəxəssis / Mütəxəssis', 'Data analitik', 'Marketinq Kommunikasiyaları Şöbəsinin Rəhbəri', 'Rəqəmsal marketinq üzrə aparıcı mütəxəssis', 'Sales Operations Administrator', 'Data Keyfiyyəti üzrə Mütəxəssis', 'Data və hesabatlıq şöbəsinin Şöbə müdiri']\n",
      "['ABB ASC', 'ABB ASC', 'PASHA Bank', 'PASHA Holding', 'PASHA Holding', 'PASHA Holding', 'PASHA Holding', 'PASHA Holding', 'QSS Analytics', 'PASHA Insurance', 'QSS Analytics', 'ABB ASC', 'ABB ASC', 'Kapital Bank', 'PASHA Bank', 'Kapital Bank', 'PASHA Bank', 'Express Bank', 'PASHA Development', 'PASHA Bank', 'Kapital Bank']\n"
     ]
    }
   ],
   "source": [
    "job_roles = []\n",
    "comp_names = []\n",
    "for i in vacancy:\n",
    "    job_roles.append(i[0])\n",
    "    comp_names.append(i[1])\n",
    "print(job_roles)\n",
    "print(comp_names)"
   ]
  },
  {
   "cell_type": "code",
   "execution_count": 333,
   "id": "654dfaae",
   "metadata": {},
   "outputs": [
    {
     "data": {
      "text/plain": [
       "11"
      ]
     },
     "execution_count": 333,
     "metadata": {},
     "output_type": "execute_result"
    }
   ],
   "source": [
    "len(job_roles)"
   ]
  },
  {
   "cell_type": "code",
   "execution_count": 419,
   "id": "a2e2bc67",
   "metadata": {},
   "outputs": [],
   "source": [
    "salaries = driver.find_elements(By.XPATH, \"//span[@class='vacancies__price']\")"
   ]
  },
  {
   "cell_type": "code",
   "execution_count": 420,
   "id": "818d8360",
   "metadata": {},
   "outputs": [
    {
     "name": "stdout",
     "output_type": "stream",
     "text": [
      "['Ə/h razılaşma ilə', 'Ə/h razılaşma ilə', 'Ə/h razılaşma ilə', 'Ə/h razılaşma ilə', 'Ə/h razılaşma ilə', 'Ə/h razılaşma ilə', 'Ə/h razılaşma ilə', 'Ə/h razılaşma ilə', 'Ə/h razılaşma ilə', 'Ə/h razılaşma ilə', 'Ə/h razılaşma ilə', 'Ə/h razılaşma ilə', 'Ə/h razılaşma ilə', 'Ə/h razılaşma ilə', 'Ə/h razılaşma ilə', 'Ə/h razılaşma ilə', 'Ə/h razılaşma ilə', 'Ə/h razılaşma ilə', 'Ə/h razılaşma ilə', 'Ə/h razılaşma ilə', 'Ə/h razılaşma ilə']\n"
     ]
    }
   ],
   "source": [
    "salary_for_jobs = []\n",
    "for k in salaries:\n",
    "    salary_for_jobs.append(k.text)\n",
    "print(salary_for_jobs)"
   ]
  },
  {
   "cell_type": "code",
   "execution_count": 421,
   "id": "707fdcfc",
   "metadata": {},
   "outputs": [
    {
     "name": "stdout",
     "output_type": "stream",
     "text": [
      "<class 'list'>\n"
     ]
    }
   ],
   "source": [
    "dates = driver.find_elements(By.XPATH,\"/html/body/main/section/div/div/div[1]/a/div[2]/span[2]\")\n",
    "print(type(dates))"
   ]
  },
  {
   "cell_type": "code",
   "execution_count": 422,
   "id": "03f52f33",
   "metadata": {},
   "outputs": [
    {
     "name": "stdout",
     "output_type": "stream",
     "text": [
      "['Bu gün 11:00', 'Bu gün 10:59', '31 Mart', '30 Mart', '30 Mart', '30 Mart', '30 Mart', '30 Mart', '28 Mart', '28 Mart', '27 Mart', '16 Mart', '16 Mart', '16 Mart', '15 Mart', '14 Mart', '13 Mart', '10 Mart', '09 Mart', '06 Mart', '06 Mart']\n"
     ]
    }
   ],
   "source": [
    "deadline_date = []\n",
    "for k in dates:\n",
    "    deadline_date.append(k.text)\n",
    "print(deadline_date)"
   ]
  },
  {
   "cell_type": "code",
   "execution_count": 423,
   "id": "1a9975f9",
   "metadata": {},
   "outputs": [
    {
     "name": "stdout",
     "output_type": "stream",
     "text": [
      "['https://www.hellojob.az/vakansiya/data-scientist-7', 'https://www.hellojob.az/vakansiya/data-sahesinin-data-vizuallasdirilmasi-uzre-analitiki', 'https://www.hellojob.az/vakansiya/teskilati-inkisaf-uzre-bas-mutexessis-6', 'https://www.hellojob.az/vakansiya/analitik-1', 'https://www.hellojob.az/vakansiya/layihe-koordinatoru-1', 'https://www.hellojob.az/vakansiya/hub-assistant-1', 'https://www.hellojob.az/vakansiya/chief-data-officer', 'https://www.hellojob.az/vakansiya/head-of-data-technology-1', 'https://www.hellojob.az/vakansiya/satis-uzre-mutexessis-78', 'https://www.hellojob.az/vakansiya/strategy-and-budgeting-specialist-1', 'https://www.hellojob.az/vakansiya/data-science-internship-1', 'https://www.hellojob.az/vakansiya/data-sahesinin-data-uzre-aparici-muhendisi', 'https://www.hellojob.az/vakansiya/data-sahesinin-aparici-data-analitiki', 'https://www.hellojob.az/vakansiya/risk-texnologiyalari-sahesi-data-analitik', 'https://www.hellojob.az/vakansiya/risk-modellesdirme-uzre-kicik-mutexessis-mutexessis-1', 'https://www.hellojob.az/vakansiya/data-analitik-16', 'https://www.hellojob.az/vakansiya/marketinq-kommunikasiyalari-sobesinin-rehberi', 'https://www.hellojob.az/vakansiya/reqemsal-marketinq-uzre-aparici-mutexessis', 'https://www.hellojob.az/vakansiya/sales-operations-administrator', 'https://www.hellojob.az/vakansiya/data-keyfiyyeti-uzre-mutexessis', 'https://www.hellojob.az/vakansiya/data-ve-hesabatliq-sobesinin-sobe-mudiri']\n"
     ]
    }
   ],
   "source": [
    "urls =  driver.find_elements(By.XPATH,\"//a[@class = 'vacancies__item']\")\n",
    "links_of_vacancies = []\n",
    "for j in urls:\n",
    "    links_of_vacancies.append(j.get_attribute(\"href\"))\n",
    "print(links_of_vacancies)   "
   ]
  },
  {
   "cell_type": "code",
   "execution_count": 366,
   "id": "cae43de6",
   "metadata": {},
   "outputs": [
    {
     "data": {
      "text/plain": [
       "'https://www.hellojob.az/vakansiya/proqram-teminati-sobesinin-aparici-mutexessisi-2'"
      ]
     },
     "execution_count": 366,
     "metadata": {},
     "output_type": "execute_result"
    }
   ],
   "source": [
    "links_of_vacancies[0]"
   ]
  },
  {
   "cell_type": "code",
   "execution_count": 350,
   "id": "dd1e842b",
   "metadata": {},
   "outputs": [
    {
     "name": "stdout",
     "output_type": "stream",
     "text": [
      "['Proqram təminatı şöbəsinin aparıcı mütəxəssisi', 'İnnovasiya üzrə analitik (İnvestisiya istiqaməti)', 'İT Arxitektoru', 'Sistemlərin İnkişafı və İdarəedilməsi Şöbəsinin Müdiri', 'Fiziki kanallar və əməliyyatlar sahəsinin back-end üzrə proqramçısı', 'Risk texnologiyaları sahəsi (Data analitik)', 'Back-End Proqramlaşdırma üzrə Funksional Sahə Lideri', 'Middle Back End Developer', 'Kart məhsulları və layihələrin idarə olunması şöbəsi üzrə aparıcı mütəxəssis', 'Back-end üzrə kiçik mütəxəssis', 'Copywriter (Remote)']\n"
     ]
    }
   ],
   "source": [
    "print(job_roles)"
   ]
  },
  {
   "cell_type": "code",
   "execution_count": 351,
   "id": "031160c7",
   "metadata": {},
   "outputs": [
    {
     "name": "stdout",
     "output_type": "stream",
     "text": [
      "['Bank Respublika ASC', 'PASHA Holding', 'ABB ASC', 'ASB', 'ABB ASC', 'Kapital Bank', 'PASHA Bank', 'PASHA Bank', 'Rabitabank OJSC', 'ABB ASC', 'Trilogy News']\n"
     ]
    }
   ],
   "source": [
    "print(comp_names)"
   ]
  },
  {
   "cell_type": "code",
   "execution_count": 341,
   "id": "7f7db14e",
   "metadata": {},
   "outputs": [
    {
     "name": "stdout",
     "output_type": "stream",
     "text": [
      "['Ə/h razılaşma ilə', 'Ə/h razılaşma ilə', 'Ə/h razılaşma ilə', 'Ə/h razılaşma ilə', 'Ə/h razılaşma ilə', 'Ə/h razılaşma ilə', 'Ə/h razılaşma ilə', 'Ə/h razılaşma ilə', 'Ə/h razılaşma ilə', 'Ə/h razılaşma ilə', '600 - 700 AZN']\n"
     ]
    }
   ],
   "source": [
    "print(salary_for_jobs)"
   ]
  },
  {
   "cell_type": "code",
   "execution_count": 342,
   "id": "5ba1cc38",
   "metadata": {},
   "outputs": [],
   "source": [
    "import pandas as pd"
   ]
  },
  {
   "cell_type": "code",
   "execution_count": 424,
   "id": "3dbe9690",
   "metadata": {},
   "outputs": [],
   "source": [
    "results_of_search = pd.DataFrame(\n",
    "    {'Jobs': job_roles,\n",
    "     'Companies': comp_names,\n",
    "     'Salary': salary_for_jobs,\n",
    "     'Deadline_for_application': deadline_date,\n",
    "     \"Links\": links_of_vacancies\n",
    "    })\n"
   ]
  },
  {
   "cell_type": "code",
   "execution_count": 425,
   "id": "392a4f98",
   "metadata": {},
   "outputs": [
    {
     "data": {
      "text/html": [
       "<div>\n",
       "<style scoped>\n",
       "    .dataframe tbody tr th:only-of-type {\n",
       "        vertical-align: middle;\n",
       "    }\n",
       "\n",
       "    .dataframe tbody tr th {\n",
       "        vertical-align: top;\n",
       "    }\n",
       "\n",
       "    .dataframe thead th {\n",
       "        text-align: right;\n",
       "    }\n",
       "</style>\n",
       "<table border=\"1\" class=\"dataframe\">\n",
       "  <thead>\n",
       "    <tr style=\"text-align: right;\">\n",
       "      <th></th>\n",
       "      <th>Jobs</th>\n",
       "      <th>Companies</th>\n",
       "      <th>Salary</th>\n",
       "      <th>Deadline_for_application</th>\n",
       "      <th>Links</th>\n",
       "    </tr>\n",
       "  </thead>\n",
       "  <tbody>\n",
       "    <tr>\n",
       "      <th>0</th>\n",
       "      <td>Data scientist</td>\n",
       "      <td>ABB ASC</td>\n",
       "      <td>Ə/h razılaşma ilə</td>\n",
       "      <td>Bu gün 11:00</td>\n",
       "      <td>https://www.hellojob.az/vakansiya/data-scienti...</td>\n",
       "    </tr>\n",
       "    <tr>\n",
       "      <th>1</th>\n",
       "      <td>Data sahəsinin data vizuallaşdırılması üzrə an...</td>\n",
       "      <td>ABB ASC</td>\n",
       "      <td>Ə/h razılaşma ilə</td>\n",
       "      <td>Bu gün 10:59</td>\n",
       "      <td>https://www.hellojob.az/vakansiya/data-sahesin...</td>\n",
       "    </tr>\n",
       "    <tr>\n",
       "      <th>2</th>\n",
       "      <td>Təşkilati inkişaf üzrə Baş Mütəxəssis</td>\n",
       "      <td>PASHA Bank</td>\n",
       "      <td>Ə/h razılaşma ilə</td>\n",
       "      <td>31 Mart</td>\n",
       "      <td>https://www.hellojob.az/vakansiya/teskilati-in...</td>\n",
       "    </tr>\n",
       "    <tr>\n",
       "      <th>3</th>\n",
       "      <td>Analitik</td>\n",
       "      <td>PASHA Holding</td>\n",
       "      <td>Ə/h razılaşma ilə</td>\n",
       "      <td>30 Mart</td>\n",
       "      <td>https://www.hellojob.az/vakansiya/analitik-1</td>\n",
       "    </tr>\n",
       "    <tr>\n",
       "      <th>4</th>\n",
       "      <td>Layihə koordinatoru</td>\n",
       "      <td>PASHA Holding</td>\n",
       "      <td>Ə/h razılaşma ilə</td>\n",
       "      <td>30 Mart</td>\n",
       "      <td>https://www.hellojob.az/vakansiya/layihe-koord...</td>\n",
       "    </tr>\n",
       "    <tr>\n",
       "      <th>5</th>\n",
       "      <td>Hub Assistant</td>\n",
       "      <td>PASHA Holding</td>\n",
       "      <td>Ə/h razılaşma ilə</td>\n",
       "      <td>30 Mart</td>\n",
       "      <td>https://www.hellojob.az/vakansiya/hub-assistant-1</td>\n",
       "    </tr>\n",
       "    <tr>\n",
       "      <th>6</th>\n",
       "      <td>Chief Data Officer</td>\n",
       "      <td>PASHA Holding</td>\n",
       "      <td>Ə/h razılaşma ilə</td>\n",
       "      <td>30 Mart</td>\n",
       "      <td>https://www.hellojob.az/vakansiya/chief-data-o...</td>\n",
       "    </tr>\n",
       "    <tr>\n",
       "      <th>7</th>\n",
       "      <td>Head of Data Technology</td>\n",
       "      <td>PASHA Holding</td>\n",
       "      <td>Ə/h razılaşma ilə</td>\n",
       "      <td>30 Mart</td>\n",
       "      <td>https://www.hellojob.az/vakansiya/head-of-data...</td>\n",
       "    </tr>\n",
       "    <tr>\n",
       "      <th>8</th>\n",
       "      <td>Satış üzrə mütəxəssis</td>\n",
       "      <td>QSS Analytics</td>\n",
       "      <td>Ə/h razılaşma ilə</td>\n",
       "      <td>28 Mart</td>\n",
       "      <td>https://www.hellojob.az/vakansiya/satis-uzre-m...</td>\n",
       "    </tr>\n",
       "    <tr>\n",
       "      <th>9</th>\n",
       "      <td>Strategy and Budgeting Specialist</td>\n",
       "      <td>PASHA Insurance</td>\n",
       "      <td>Ə/h razılaşma ilə</td>\n",
       "      <td>28 Mart</td>\n",
       "      <td>https://www.hellojob.az/vakansiya/strategy-and...</td>\n",
       "    </tr>\n",
       "    <tr>\n",
       "      <th>10</th>\n",
       "      <td>Data Science Internship</td>\n",
       "      <td>QSS Analytics</td>\n",
       "      <td>Ə/h razılaşma ilə</td>\n",
       "      <td>27 Mart</td>\n",
       "      <td>https://www.hellojob.az/vakansiya/data-science...</td>\n",
       "    </tr>\n",
       "    <tr>\n",
       "      <th>11</th>\n",
       "      <td>Data sahəsinin data üzrə aparıcı mühəndisi</td>\n",
       "      <td>ABB ASC</td>\n",
       "      <td>Ə/h razılaşma ilə</td>\n",
       "      <td>16 Mart</td>\n",
       "      <td>https://www.hellojob.az/vakansiya/data-sahesin...</td>\n",
       "    </tr>\n",
       "    <tr>\n",
       "      <th>12</th>\n",
       "      <td>Data sahəsinin aparıcı data analitiki</td>\n",
       "      <td>ABB ASC</td>\n",
       "      <td>Ə/h razılaşma ilə</td>\n",
       "      <td>16 Mart</td>\n",
       "      <td>https://www.hellojob.az/vakansiya/data-sahesin...</td>\n",
       "    </tr>\n",
       "    <tr>\n",
       "      <th>13</th>\n",
       "      <td>Risk texnologiyaları sahəsi (Data analitik)</td>\n",
       "      <td>Kapital Bank</td>\n",
       "      <td>Ə/h razılaşma ilə</td>\n",
       "      <td>16 Mart</td>\n",
       "      <td>https://www.hellojob.az/vakansiya/risk-texnolo...</td>\n",
       "    </tr>\n",
       "    <tr>\n",
       "      <th>14</th>\n",
       "      <td>Risk Modelləşdirmə üzrə Kiçik Mütəxəssis / Müt...</td>\n",
       "      <td>PASHA Bank</td>\n",
       "      <td>Ə/h razılaşma ilə</td>\n",
       "      <td>15 Mart</td>\n",
       "      <td>https://www.hellojob.az/vakansiya/risk-modelle...</td>\n",
       "    </tr>\n",
       "    <tr>\n",
       "      <th>15</th>\n",
       "      <td>Data analitik</td>\n",
       "      <td>Kapital Bank</td>\n",
       "      <td>Ə/h razılaşma ilə</td>\n",
       "      <td>14 Mart</td>\n",
       "      <td>https://www.hellojob.az/vakansiya/data-analiti...</td>\n",
       "    </tr>\n",
       "    <tr>\n",
       "      <th>16</th>\n",
       "      <td>Marketinq Kommunikasiyaları Şöbəsinin Rəhbəri</td>\n",
       "      <td>PASHA Bank</td>\n",
       "      <td>Ə/h razılaşma ilə</td>\n",
       "      <td>13 Mart</td>\n",
       "      <td>https://www.hellojob.az/vakansiya/marketinq-ko...</td>\n",
       "    </tr>\n",
       "    <tr>\n",
       "      <th>17</th>\n",
       "      <td>Rəqəmsal marketinq üzrə aparıcı mütəxəssis</td>\n",
       "      <td>Express Bank</td>\n",
       "      <td>Ə/h razılaşma ilə</td>\n",
       "      <td>10 Mart</td>\n",
       "      <td>https://www.hellojob.az/vakansiya/reqemsal-mar...</td>\n",
       "    </tr>\n",
       "    <tr>\n",
       "      <th>18</th>\n",
       "      <td>Sales Operations Administrator</td>\n",
       "      <td>PASHA Development</td>\n",
       "      <td>Ə/h razılaşma ilə</td>\n",
       "      <td>09 Mart</td>\n",
       "      <td>https://www.hellojob.az/vakansiya/sales-operat...</td>\n",
       "    </tr>\n",
       "    <tr>\n",
       "      <th>19</th>\n",
       "      <td>Data Keyfiyyəti üzrə Mütəxəssis</td>\n",
       "      <td>PASHA Bank</td>\n",
       "      <td>Ə/h razılaşma ilə</td>\n",
       "      <td>06 Mart</td>\n",
       "      <td>https://www.hellojob.az/vakansiya/data-keyfiyy...</td>\n",
       "    </tr>\n",
       "    <tr>\n",
       "      <th>20</th>\n",
       "      <td>Data və hesabatlıq şöbəsinin Şöbə müdiri</td>\n",
       "      <td>Kapital Bank</td>\n",
       "      <td>Ə/h razılaşma ilə</td>\n",
       "      <td>06 Mart</td>\n",
       "      <td>https://www.hellojob.az/vakansiya/data-ve-hesa...</td>\n",
       "    </tr>\n",
       "  </tbody>\n",
       "</table>\n",
       "</div>"
      ],
      "text/plain": [
       "                                                 Jobs          Companies  \\\n",
       "0                                      Data scientist            ABB ASC   \n",
       "1   Data sahəsinin data vizuallaşdırılması üzrə an...            ABB ASC   \n",
       "2               Təşkilati inkişaf üzrə Baş Mütəxəssis         PASHA Bank   \n",
       "3                                            Analitik      PASHA Holding   \n",
       "4                                 Layihə koordinatoru      PASHA Holding   \n",
       "5                                       Hub Assistant      PASHA Holding   \n",
       "6                                  Chief Data Officer      PASHA Holding   \n",
       "7                             Head of Data Technology      PASHA Holding   \n",
       "8                               Satış üzrə mütəxəssis      QSS Analytics   \n",
       "9                   Strategy and Budgeting Specialist    PASHA Insurance   \n",
       "10                            Data Science Internship      QSS Analytics   \n",
       "11         Data sahəsinin data üzrə aparıcı mühəndisi            ABB ASC   \n",
       "12              Data sahəsinin aparıcı data analitiki            ABB ASC   \n",
       "13        Risk texnologiyaları sahəsi (Data analitik)       Kapital Bank   \n",
       "14  Risk Modelləşdirmə üzrə Kiçik Mütəxəssis / Müt...         PASHA Bank   \n",
       "15                                      Data analitik       Kapital Bank   \n",
       "16      Marketinq Kommunikasiyaları Şöbəsinin Rəhbəri         PASHA Bank   \n",
       "17         Rəqəmsal marketinq üzrə aparıcı mütəxəssis       Express Bank   \n",
       "18                     Sales Operations Administrator  PASHA Development   \n",
       "19                    Data Keyfiyyəti üzrə Mütəxəssis         PASHA Bank   \n",
       "20           Data və hesabatlıq şöbəsinin Şöbə müdiri       Kapital Bank   \n",
       "\n",
       "               Salary Deadline_for_application  \\\n",
       "0   Ə/h razılaşma ilə             Bu gün 11:00   \n",
       "1   Ə/h razılaşma ilə             Bu gün 10:59   \n",
       "2   Ə/h razılaşma ilə                  31 Mart   \n",
       "3   Ə/h razılaşma ilə                  30 Mart   \n",
       "4   Ə/h razılaşma ilə                  30 Mart   \n",
       "5   Ə/h razılaşma ilə                  30 Mart   \n",
       "6   Ə/h razılaşma ilə                  30 Mart   \n",
       "7   Ə/h razılaşma ilə                  30 Mart   \n",
       "8   Ə/h razılaşma ilə                  28 Mart   \n",
       "9   Ə/h razılaşma ilə                  28 Mart   \n",
       "10  Ə/h razılaşma ilə                  27 Mart   \n",
       "11  Ə/h razılaşma ilə                  16 Mart   \n",
       "12  Ə/h razılaşma ilə                  16 Mart   \n",
       "13  Ə/h razılaşma ilə                  16 Mart   \n",
       "14  Ə/h razılaşma ilə                  15 Mart   \n",
       "15  Ə/h razılaşma ilə                  14 Mart   \n",
       "16  Ə/h razılaşma ilə                  13 Mart   \n",
       "17  Ə/h razılaşma ilə                  10 Mart   \n",
       "18  Ə/h razılaşma ilə                  09 Mart   \n",
       "19  Ə/h razılaşma ilə                  06 Mart   \n",
       "20  Ə/h razılaşma ilə                  06 Mart   \n",
       "\n",
       "                                                Links  \n",
       "0   https://www.hellojob.az/vakansiya/data-scienti...  \n",
       "1   https://www.hellojob.az/vakansiya/data-sahesin...  \n",
       "2   https://www.hellojob.az/vakansiya/teskilati-in...  \n",
       "3        https://www.hellojob.az/vakansiya/analitik-1  \n",
       "4   https://www.hellojob.az/vakansiya/layihe-koord...  \n",
       "5   https://www.hellojob.az/vakansiya/hub-assistant-1  \n",
       "6   https://www.hellojob.az/vakansiya/chief-data-o...  \n",
       "7   https://www.hellojob.az/vakansiya/head-of-data...  \n",
       "8   https://www.hellojob.az/vakansiya/satis-uzre-m...  \n",
       "9   https://www.hellojob.az/vakansiya/strategy-and...  \n",
       "10  https://www.hellojob.az/vakansiya/data-science...  \n",
       "11  https://www.hellojob.az/vakansiya/data-sahesin...  \n",
       "12  https://www.hellojob.az/vakansiya/data-sahesin...  \n",
       "13  https://www.hellojob.az/vakansiya/risk-texnolo...  \n",
       "14  https://www.hellojob.az/vakansiya/risk-modelle...  \n",
       "15  https://www.hellojob.az/vakansiya/data-analiti...  \n",
       "16  https://www.hellojob.az/vakansiya/marketinq-ko...  \n",
       "17  https://www.hellojob.az/vakansiya/reqemsal-mar...  \n",
       "18  https://www.hellojob.az/vakansiya/sales-operat...  \n",
       "19  https://www.hellojob.az/vakansiya/data-keyfiyy...  \n",
       "20  https://www.hellojob.az/vakansiya/data-ve-hesa...  "
      ]
     },
     "execution_count": 425,
     "metadata": {},
     "output_type": "execute_result"
    }
   ],
   "source": [
    "results_of_search"
   ]
  },
  {
   "cell_type": "code",
   "execution_count": null,
   "id": "b53f1b04",
   "metadata": {},
   "outputs": [],
   "source": []
  },
  {
   "cell_type": "code",
   "execution_count": 371,
   "id": "1d150968",
   "metadata": {},
   "outputs": [],
   "source": [
    "# r'url_of_file_in_local_computer\\file_name.csv'\n",
    "results_of_search.to_csv(r'C:\\Users\\ACER\\Downloads\\Vacancies_from_hellojob12.csv', encoding = 'utf-8-sig',index=False,header=True) "
   ]
  },
  {
   "cell_type": "code",
   "execution_count": null,
   "id": "07323075",
   "metadata": {},
   "outputs": [],
   "source": [
    "import pandas as pd"
   ]
  },
  {
   "cell_type": "code",
   "execution_count": 426,
   "id": "66d66973",
   "metadata": {},
   "outputs": [],
   "source": [
    "def web_scraping(job):\n",
    "    search_box = driver.find_element(By.XPATH, \"/html/body/main/div[1]/div[2]/div/div[2]/div/div[1]/form/div/input[1]\")\n",
    "    search_box.clear()  # => if we want to search new vacancies in different category firstly we have to remove the previous one\n",
    "    search_box.send_keys(job)\n",
    "    search_box.send_keys(Keys.ENTER)\n",
    "    sleep(3)\n",
    "    \n",
    "    items = driver.find_elements(By.XPATH,\"//div[@class='vacancies__desc']\")\n",
    "    vacancies = []\n",
    "    for i in items:\n",
    "        vacancies.append(i.text)\n",
    "        \n",
    "    vacancy = []\n",
    "    for i in vacancies:\n",
    "        vacancy.append(i.split(\"\\n\"))\n",
    "    \n",
    "    job_roles = []\n",
    "    comp_names = []\n",
    "    for i in vacancy:\n",
    "        job_roles.append(i[0])\n",
    "        comp_names.append(i[1])\n",
    "    \n",
    "    salaries = driver.find_elements(By.XPATH, \"//span[@class='vacancies__price']\")\n",
    "    salary_for_jobs = []\n",
    "    for k in salaries:\n",
    "        salary_for_jobs.append(k.text)\n",
    "    \n",
    "    dates = driver.find_elements(By.XPATH,\"/html/body/main/section/div/div/div[1]/a/div[2]/span[2]\")\n",
    "    deadline_date = []\n",
    "    for k in dates:\n",
    "        deadline_date.append(k.text)\n",
    "        \n",
    "    urls =  driver.find_elements(By.XPATH,\"//a[@class = 'vacancies__item']\")\n",
    "    links_of_vacancies = []\n",
    "    for j in urls:\n",
    "        links_of_vacancies.append(j.get_attribute(\"href\"))\n",
    "    results_of_search = pd.DataFrame(\n",
    "    {'Jobs': job_roles,\n",
    "     'Companies': comp_names,\n",
    "     'Salary': salary_for_jobs,\n",
    "     'Deadline_for_application': deadline_date,\n",
    "     \"Links_of_vacancies\" : links_of_vacancies\n",
    "    })\n",
    "    \n",
    "    return results_of_search\n",
    "    "
   ]
  },
  {
   "cell_type": "code",
   "execution_count": 427,
   "id": "d2c2df44",
   "metadata": {},
   "outputs": [],
   "source": [
    "result = web_scraping(\"Data\")"
   ]
  },
  {
   "cell_type": "code",
   "execution_count": 428,
   "id": "7549b76d",
   "metadata": {},
   "outputs": [
    {
     "name": "stdout",
     "output_type": "stream",
     "text": [
      "                                                 Jobs          Companies  \\\n",
      "0                                      Data scientist            ABB ASC   \n",
      "1   Data sahəsinin data vizuallaşdırılması üzrə an...            ABB ASC   \n",
      "2               Təşkilati inkişaf üzrə Baş Mütəxəssis         PASHA Bank   \n",
      "3                                            Analitik      PASHA Holding   \n",
      "4                                 Layihə koordinatoru      PASHA Holding   \n",
      "5                                       Hub Assistant      PASHA Holding   \n",
      "6                                  Chief Data Officer      PASHA Holding   \n",
      "7                             Head of Data Technology      PASHA Holding   \n",
      "8                               Satış üzrə mütəxəssis      QSS Analytics   \n",
      "9                   Strategy and Budgeting Specialist    PASHA Insurance   \n",
      "10                            Data Science Internship      QSS Analytics   \n",
      "11         Data sahəsinin data üzrə aparıcı mühəndisi            ABB ASC   \n",
      "12              Data sahəsinin aparıcı data analitiki            ABB ASC   \n",
      "13        Risk texnologiyaları sahəsi (Data analitik)       Kapital Bank   \n",
      "14  Risk Modelləşdirmə üzrə Kiçik Mütəxəssis / Müt...         PASHA Bank   \n",
      "15                                      Data analitik       Kapital Bank   \n",
      "16      Marketinq Kommunikasiyaları Şöbəsinin Rəhbəri         PASHA Bank   \n",
      "17         Rəqəmsal marketinq üzrə aparıcı mütəxəssis       Express Bank   \n",
      "18                     Sales Operations Administrator  PASHA Development   \n",
      "19                    Data Keyfiyyəti üzrə Mütəxəssis         PASHA Bank   \n",
      "20           Data və hesabatlıq şöbəsinin Şöbə müdiri       Kapital Bank   \n",
      "\n",
      "               Salary Deadline_for_application  \\\n",
      "0   Ə/h razılaşma ilə             Bu gün 11:00   \n",
      "1   Ə/h razılaşma ilə             Bu gün 10:59   \n",
      "2   Ə/h razılaşma ilə                  31 Mart   \n",
      "3   Ə/h razılaşma ilə                  30 Mart   \n",
      "4   Ə/h razılaşma ilə                  30 Mart   \n",
      "5   Ə/h razılaşma ilə                  30 Mart   \n",
      "6   Ə/h razılaşma ilə                  30 Mart   \n",
      "7   Ə/h razılaşma ilə                  30 Mart   \n",
      "8   Ə/h razılaşma ilə                  28 Mart   \n",
      "9   Ə/h razılaşma ilə                  28 Mart   \n",
      "10  Ə/h razılaşma ilə                  27 Mart   \n",
      "11  Ə/h razılaşma ilə                  16 Mart   \n",
      "12  Ə/h razılaşma ilə                  16 Mart   \n",
      "13  Ə/h razılaşma ilə                  16 Mart   \n",
      "14  Ə/h razılaşma ilə                  15 Mart   \n",
      "15  Ə/h razılaşma ilə                  14 Mart   \n",
      "16  Ə/h razılaşma ilə                  13 Mart   \n",
      "17  Ə/h razılaşma ilə                  10 Mart   \n",
      "18  Ə/h razılaşma ilə                  09 Mart   \n",
      "19  Ə/h razılaşma ilə                  06 Mart   \n",
      "20  Ə/h razılaşma ilə                  06 Mart   \n",
      "\n",
      "                                   Links_of_vacancies  \n",
      "0   https://www.hellojob.az/vakansiya/data-scienti...  \n",
      "1   https://www.hellojob.az/vakansiya/data-sahesin...  \n",
      "2   https://www.hellojob.az/vakansiya/teskilati-in...  \n",
      "3        https://www.hellojob.az/vakansiya/analitik-1  \n",
      "4   https://www.hellojob.az/vakansiya/layihe-koord...  \n",
      "5   https://www.hellojob.az/vakansiya/hub-assistant-1  \n",
      "6   https://www.hellojob.az/vakansiya/chief-data-o...  \n",
      "7   https://www.hellojob.az/vakansiya/head-of-data...  \n",
      "8   https://www.hellojob.az/vakansiya/satis-uzre-m...  \n",
      "9   https://www.hellojob.az/vakansiya/strategy-and...  \n",
      "10  https://www.hellojob.az/vakansiya/data-science...  \n",
      "11  https://www.hellojob.az/vakansiya/data-sahesin...  \n",
      "12  https://www.hellojob.az/vakansiya/data-sahesin...  \n",
      "13  https://www.hellojob.az/vakansiya/risk-texnolo...  \n",
      "14  https://www.hellojob.az/vakansiya/risk-modelle...  \n",
      "15  https://www.hellojob.az/vakansiya/data-analiti...  \n",
      "16  https://www.hellojob.az/vakansiya/marketinq-ko...  \n",
      "17  https://www.hellojob.az/vakansiya/reqemsal-mar...  \n",
      "18  https://www.hellojob.az/vakansiya/sales-operat...  \n",
      "19  https://www.hellojob.az/vakansiya/data-keyfiyy...  \n",
      "20  https://www.hellojob.az/vakansiya/data-ve-hesa...  \n"
     ]
    }
   ],
   "source": [
    "print(result)"
   ]
  },
  {
   "cell_type": "code",
   "execution_count": 374,
   "id": "1382a45f",
   "metadata": {},
   "outputs": [],
   "source": [
    "# r'url_of_file_in_local_computer\\file_name.csv'\n",
    "result.to_csv(r'C:\\Users\\ACER\\Downloads\\Vacancies_from_hellojob_last.csv', encoding = 'utf-8-sig',index=False,header=True) "
   ]
  },
  {
   "cell_type": "code",
   "execution_count": null,
   "id": "7bca6e14",
   "metadata": {},
   "outputs": [],
   "source": []
  },
  {
   "cell_type": "code",
   "execution_count": null,
   "id": "743d67df",
   "metadata": {},
   "outputs": [],
   "source": []
  },
  {
   "cell_type": "code",
   "execution_count": null,
   "id": "1e19c82f",
   "metadata": {},
   "outputs": [],
   "source": []
  },
  {
   "cell_type": "code",
   "execution_count": null,
   "id": "367073bb",
   "metadata": {},
   "outputs": [],
   "source": []
  },
  {
   "cell_type": "code",
   "execution_count": null,
   "id": "d77d1637",
   "metadata": {},
   "outputs": [],
   "source": []
  },
  {
   "cell_type": "code",
   "execution_count": null,
   "id": "b726cf16",
   "metadata": {},
   "outputs": [],
   "source": []
  }
 ],
 "metadata": {
  "kernelspec": {
   "display_name": "Python 3 (ipykernel)",
   "language": "python",
   "name": "python3"
  },
  "language_info": {
   "codemirror_mode": {
    "name": "ipython",
    "version": 3
   },
   "file_extension": ".py",
   "mimetype": "text/x-python",
   "name": "python",
   "nbconvert_exporter": "python",
   "pygments_lexer": "ipython3",
   "version": "3.9.7"
  }
 },
 "nbformat": 4,
 "nbformat_minor": 5
}
